{
 "cells": [
  {
   "cell_type": "code",
   "execution_count": 1,
   "id": "4c210717",
   "metadata": {},
   "outputs": [],
   "source": [
    "import os\n",
    "import cv2\n",
    "import numpy as np\n",
    "import pandas as pd\n",
    "import mahotas as mt\n",
    "from matplotlib import pyplot as plt\n",
    "%matplotlib inline\n"
   ]
  },
  {
   "cell_type": "code",
   "execution_count": 35,
   "id": "b9374ac3",
   "metadata": {},
   "outputs": [],
   "source": [
    "ds_path = 'leaf dataset'\n",
    "img_files = os.listdir(ds_path)"
   ]
  },
  {
   "cell_type": "code",
   "execution_count": 46,
   "id": "558ff983",
   "metadata": {},
   "outputs": [],
   "source": [
    "def create_dataset():\n",
    "    names = ['area','perimeter','physiological_length','physiological_width','aspect_ratio','rectangularity','circularity', \\\n",
    "             'mean_r','mean_g','mean_b','stddev_r','stddev_g','stddev_b', \\\n",
    "             'contrast','correlation','inverse_difference_moments','entropy'\n",
    "            ]\n",
    "    df = pd.DataFrame([], columns=names)\n",
    "    for file in img_files:\n",
    "        imgpath = ds_path + \"\\\\\" + file\n",
    "        main_img = cv2.imread(imgpath)\n",
    "        \n",
    "        #Preprocessing\n",
    "        img = cv2.cvtColor(main_img, cv2.COLOR_BGR2RGB)\n",
    "        gs = cv2.cvtColor(img,cv2.COLOR_RGB2GRAY)\n",
    "        blur = cv2.GaussianBlur(gs, (25,25),0)\n",
    "        ret_otsu,im_bw_otsu = cv2.threshold(blur,0,255,cv2.THRESH_BINARY_INV+cv2.THRESH_OTSU)\n",
    "        kernel = np.ones((50,50),np.uint8)\n",
    "        closing = cv2.morphologyEx(im_bw_otsu, cv2.MORPH_CLOSE, kernel)\n",
    "        \n",
    "        #Shape features\n",
    "        contours, _ = cv2.findContours(closing,cv2.RETR_TREE,cv2.CHAIN_APPROX_SIMPLE)\n",
    "        cnt = contours[0]\n",
    "        M = cv2.moments(cnt)\n",
    "        area = cv2.contourArea(cnt)\n",
    "        perimeter = cv2.arcLength(cnt,True)\n",
    "        x,y,w,h = cv2.boundingRect(cnt)\n",
    "        aspect_ratio = float(w)/h\n",
    "        rectangularity = w*h/area\n",
    "        circularity = ((perimeter)**2)/area\n",
    "        \n",
    "        #Color features\n",
    "        red_channel = img[:,:,0]\n",
    "        green_channel = img[:,:,1]\n",
    "        blue_channel = img[:,:,2]\n",
    "        blue_channel[blue_channel == 255] = 0\n",
    "        green_channel[green_channel == 255] = 0\n",
    "        red_channel[red_channel == 255] = 0\n",
    "        \n",
    "        red_mean = np.mean(red_channel)\n",
    "        green_mean = np.mean(green_channel)\n",
    "        blue_mean = np.mean(blue_channel)\n",
    "        \n",
    "        red_std = np.std(red_channel)\n",
    "        green_std = np.std(green_channel)\n",
    "        blue_std = np.std(blue_channel)\n",
    "        \n",
    "        #Texture features\n",
    "        textures = mt.features.haralick(gs)\n",
    "        ht_mean = textures.mean(axis=0)\n",
    "        contrast = ht_mean[1]\n",
    "        correlation = ht_mean[2]\n",
    "        inverse_diff_moments = ht_mean[4]\n",
    "        entropy = ht_mean[8]\n",
    "        \n",
    "        vector = [area,perimeter,w,h,aspect_ratio,rectangularity,circularity,\\\n",
    "                  red_mean,green_mean,blue_mean,red_std,green_std,blue_std,\\\n",
    "                  contrast,correlation,inverse_diff_moments,entropy\n",
    "                 ]\n",
    "        \n",
    "        df_temp = pd.DataFrame([vector],columns=names)\n",
    "        df = df.append(df_temp)\n",
    "        print(file)\n",
    "    return df"
   ]
  },
  {
   "cell_type": "code",
   "execution_count": 47,
   "id": "78ec4051",
   "metadata": {
    "scrolled": true
   },
   "outputs": [
    {
     "name": "stderr",
     "output_type": "stream",
     "text": [
      "C:\\Users\\SARITHA\\AppData\\Local\\Temp\\ipykernel_13112\\1807032392.py:60: FutureWarning: The frame.append method is deprecated and will be removed from pandas in a future version. Use pandas.concat instead.\n",
      "  df = df.append(df_temp)\n"
     ]
    },
    {
     "name": "stdout",
     "output_type": "stream",
     "text": [
      "101.jpg\n"
     ]
    },
    {
     "name": "stderr",
     "output_type": "stream",
     "text": [
      "C:\\Users\\SARITHA\\AppData\\Local\\Temp\\ipykernel_13112\\1807032392.py:60: FutureWarning: The frame.append method is deprecated and will be removed from pandas in a future version. Use pandas.concat instead.\n",
      "  df = df.append(df_temp)\n"
     ]
    },
    {
     "name": "stdout",
     "output_type": "stream",
     "text": [
      "102.jpg\n"
     ]
    },
    {
     "name": "stderr",
     "output_type": "stream",
     "text": [
      "C:\\Users\\SARITHA\\AppData\\Local\\Temp\\ipykernel_13112\\1807032392.py:60: FutureWarning: The frame.append method is deprecated and will be removed from pandas in a future version. Use pandas.concat instead.\n",
      "  df = df.append(df_temp)\n"
     ]
    },
    {
     "name": "stdout",
     "output_type": "stream",
     "text": [
      "103.jpg\n"
     ]
    },
    {
     "name": "stderr",
     "output_type": "stream",
     "text": [
      "C:\\Users\\SARITHA\\AppData\\Local\\Temp\\ipykernel_13112\\1807032392.py:60: FutureWarning: The frame.append method is deprecated and will be removed from pandas in a future version. Use pandas.concat instead.\n",
      "  df = df.append(df_temp)\n"
     ]
    },
    {
     "name": "stdout",
     "output_type": "stream",
     "text": [
      "104.jpg\n"
     ]
    },
    {
     "name": "stderr",
     "output_type": "stream",
     "text": [
      "C:\\Users\\SARITHA\\AppData\\Local\\Temp\\ipykernel_13112\\1807032392.py:60: FutureWarning: The frame.append method is deprecated and will be removed from pandas in a future version. Use pandas.concat instead.\n",
      "  df = df.append(df_temp)\n"
     ]
    },
    {
     "name": "stdout",
     "output_type": "stream",
     "text": [
      "105.jpg\n"
     ]
    },
    {
     "name": "stderr",
     "output_type": "stream",
     "text": [
      "C:\\Users\\SARITHA\\AppData\\Local\\Temp\\ipykernel_13112\\1807032392.py:60: FutureWarning: The frame.append method is deprecated and will be removed from pandas in a future version. Use pandas.concat instead.\n",
      "  df = df.append(df_temp)\n"
     ]
    },
    {
     "name": "stdout",
     "output_type": "stream",
     "text": [
      "106.jpg\n"
     ]
    },
    {
     "name": "stderr",
     "output_type": "stream",
     "text": [
      "C:\\Users\\SARITHA\\AppData\\Local\\Temp\\ipykernel_13112\\1807032392.py:60: FutureWarning: The frame.append method is deprecated and will be removed from pandas in a future version. Use pandas.concat instead.\n",
      "  df = df.append(df_temp)\n"
     ]
    },
    {
     "name": "stdout",
     "output_type": "stream",
     "text": [
      "107.jpg\n"
     ]
    },
    {
     "name": "stderr",
     "output_type": "stream",
     "text": [
      "C:\\Users\\SARITHA\\AppData\\Local\\Temp\\ipykernel_13112\\1807032392.py:60: FutureWarning: The frame.append method is deprecated and will be removed from pandas in a future version. Use pandas.concat instead.\n",
      "  df = df.append(df_temp)\n"
     ]
    },
    {
     "name": "stdout",
     "output_type": "stream",
     "text": [
      "108.jpg\n"
     ]
    },
    {
     "name": "stderr",
     "output_type": "stream",
     "text": [
      "C:\\Users\\SARITHA\\AppData\\Local\\Temp\\ipykernel_13112\\1807032392.py:60: FutureWarning: The frame.append method is deprecated and will be removed from pandas in a future version. Use pandas.concat instead.\n",
      "  df = df.append(df_temp)\n"
     ]
    },
    {
     "name": "stdout",
     "output_type": "stream",
     "text": [
      "109.jpg\n"
     ]
    },
    {
     "name": "stderr",
     "output_type": "stream",
     "text": [
      "C:\\Users\\SARITHA\\AppData\\Local\\Temp\\ipykernel_13112\\1807032392.py:60: FutureWarning: The frame.append method is deprecated and will be removed from pandas in a future version. Use pandas.concat instead.\n",
      "  df = df.append(df_temp)\n"
     ]
    },
    {
     "name": "stdout",
     "output_type": "stream",
     "text": [
      "110.jpg\n"
     ]
    },
    {
     "name": "stderr",
     "output_type": "stream",
     "text": [
      "C:\\Users\\SARITHA\\AppData\\Local\\Temp\\ipykernel_13112\\1807032392.py:60: FutureWarning: The frame.append method is deprecated and will be removed from pandas in a future version. Use pandas.concat instead.\n",
      "  df = df.append(df_temp)\n"
     ]
    },
    {
     "name": "stdout",
     "output_type": "stream",
     "text": [
      "111.jpg\n"
     ]
    },
    {
     "name": "stderr",
     "output_type": "stream",
     "text": [
      "C:\\Users\\SARITHA\\AppData\\Local\\Temp\\ipykernel_13112\\1807032392.py:60: FutureWarning: The frame.append method is deprecated and will be removed from pandas in a future version. Use pandas.concat instead.\n",
      "  df = df.append(df_temp)\n"
     ]
    },
    {
     "name": "stdout",
     "output_type": "stream",
     "text": [
      "112.jpg\n"
     ]
    },
    {
     "name": "stderr",
     "output_type": "stream",
     "text": [
      "C:\\Users\\SARITHA\\AppData\\Local\\Temp\\ipykernel_13112\\1807032392.py:60: FutureWarning: The frame.append method is deprecated and will be removed from pandas in a future version. Use pandas.concat instead.\n",
      "  df = df.append(df_temp)\n"
     ]
    },
    {
     "name": "stdout",
     "output_type": "stream",
     "text": [
      "113.jpg\n"
     ]
    },
    {
     "name": "stderr",
     "output_type": "stream",
     "text": [
      "C:\\Users\\SARITHA\\AppData\\Local\\Temp\\ipykernel_13112\\1807032392.py:60: FutureWarning: The frame.append method is deprecated and will be removed from pandas in a future version. Use pandas.concat instead.\n",
      "  df = df.append(df_temp)\n"
     ]
    },
    {
     "name": "stdout",
     "output_type": "stream",
     "text": [
      "114.jpg\n"
     ]
    },
    {
     "name": "stderr",
     "output_type": "stream",
     "text": [
      "C:\\Users\\SARITHA\\AppData\\Local\\Temp\\ipykernel_13112\\1807032392.py:60: FutureWarning: The frame.append method is deprecated and will be removed from pandas in a future version. Use pandas.concat instead.\n",
      "  df = df.append(df_temp)\n"
     ]
    },
    {
     "name": "stdout",
     "output_type": "stream",
     "text": [
      "115.jpg\n"
     ]
    },
    {
     "name": "stderr",
     "output_type": "stream",
     "text": [
      "C:\\Users\\SARITHA\\AppData\\Local\\Temp\\ipykernel_13112\\1807032392.py:60: FutureWarning: The frame.append method is deprecated and will be removed from pandas in a future version. Use pandas.concat instead.\n",
      "  df = df.append(df_temp)\n"
     ]
    },
    {
     "name": "stdout",
     "output_type": "stream",
     "text": [
      "116.jpg\n"
     ]
    },
    {
     "name": "stderr",
     "output_type": "stream",
     "text": [
      "C:\\Users\\SARITHA\\AppData\\Local\\Temp\\ipykernel_13112\\1807032392.py:60: FutureWarning: The frame.append method is deprecated and will be removed from pandas in a future version. Use pandas.concat instead.\n",
      "  df = df.append(df_temp)\n"
     ]
    },
    {
     "name": "stdout",
     "output_type": "stream",
     "text": [
      "117.jpg\n"
     ]
    },
    {
     "name": "stderr",
     "output_type": "stream",
     "text": [
      "C:\\Users\\SARITHA\\AppData\\Local\\Temp\\ipykernel_13112\\1807032392.py:60: FutureWarning: The frame.append method is deprecated and will be removed from pandas in a future version. Use pandas.concat instead.\n",
      "  df = df.append(df_temp)\n"
     ]
    },
    {
     "name": "stdout",
     "output_type": "stream",
     "text": [
      "118.jpg\n"
     ]
    },
    {
     "name": "stderr",
     "output_type": "stream",
     "text": [
      "C:\\Users\\SARITHA\\AppData\\Local\\Temp\\ipykernel_13112\\1807032392.py:60: FutureWarning: The frame.append method is deprecated and will be removed from pandas in a future version. Use pandas.concat instead.\n",
      "  df = df.append(df_temp)\n"
     ]
    },
    {
     "name": "stdout",
     "output_type": "stream",
     "text": [
      "119.jpg\n"
     ]
    },
    {
     "name": "stderr",
     "output_type": "stream",
     "text": [
      "C:\\Users\\SARITHA\\AppData\\Local\\Temp\\ipykernel_13112\\1807032392.py:60: FutureWarning: The frame.append method is deprecated and will be removed from pandas in a future version. Use pandas.concat instead.\n",
      "  df = df.append(df_temp)\n"
     ]
    },
    {
     "name": "stdout",
     "output_type": "stream",
     "text": [
      "120.jpg\n"
     ]
    },
    {
     "name": "stderr",
     "output_type": "stream",
     "text": [
      "C:\\Users\\SARITHA\\AppData\\Local\\Temp\\ipykernel_13112\\1807032392.py:60: FutureWarning: The frame.append method is deprecated and will be removed from pandas in a future version. Use pandas.concat instead.\n",
      "  df = df.append(df_temp)\n"
     ]
    },
    {
     "name": "stdout",
     "output_type": "stream",
     "text": [
      "121.jpg\n"
     ]
    },
    {
     "name": "stderr",
     "output_type": "stream",
     "text": [
      "C:\\Users\\SARITHA\\AppData\\Local\\Temp\\ipykernel_13112\\1807032392.py:60: FutureWarning: The frame.append method is deprecated and will be removed from pandas in a future version. Use pandas.concat instead.\n",
      "  df = df.append(df_temp)\n"
     ]
    },
    {
     "name": "stdout",
     "output_type": "stream",
     "text": [
      "122.jpg\n"
     ]
    },
    {
     "name": "stderr",
     "output_type": "stream",
     "text": [
      "C:\\Users\\SARITHA\\AppData\\Local\\Temp\\ipykernel_13112\\1807032392.py:60: FutureWarning: The frame.append method is deprecated and will be removed from pandas in a future version. Use pandas.concat instead.\n",
      "  df = df.append(df_temp)\n"
     ]
    },
    {
     "name": "stdout",
     "output_type": "stream",
     "text": [
      "123.jpg\n"
     ]
    },
    {
     "name": "stderr",
     "output_type": "stream",
     "text": [
      "C:\\Users\\SARITHA\\AppData\\Local\\Temp\\ipykernel_13112\\1807032392.py:60: FutureWarning: The frame.append method is deprecated and will be removed from pandas in a future version. Use pandas.concat instead.\n",
      "  df = df.append(df_temp)\n"
     ]
    },
    {
     "name": "stdout",
     "output_type": "stream",
     "text": [
      "124.jpg\n"
     ]
    },
    {
     "name": "stderr",
     "output_type": "stream",
     "text": [
      "C:\\Users\\SARITHA\\AppData\\Local\\Temp\\ipykernel_13112\\1807032392.py:60: FutureWarning: The frame.append method is deprecated and will be removed from pandas in a future version. Use pandas.concat instead.\n",
      "  df = df.append(df_temp)\n"
     ]
    },
    {
     "name": "stdout",
     "output_type": "stream",
     "text": [
      "125.jpg\n"
     ]
    },
    {
     "name": "stderr",
     "output_type": "stream",
     "text": [
      "C:\\Users\\SARITHA\\AppData\\Local\\Temp\\ipykernel_13112\\1807032392.py:60: FutureWarning: The frame.append method is deprecated and will be removed from pandas in a future version. Use pandas.concat instead.\n",
      "  df = df.append(df_temp)\n"
     ]
    },
    {
     "name": "stdout",
     "output_type": "stream",
     "text": [
      "126.jpg\n",
      "127.jpg\n"
     ]
    },
    {
     "name": "stderr",
     "output_type": "stream",
     "text": [
      "C:\\Users\\SARITHA\\AppData\\Local\\Temp\\ipykernel_13112\\1807032392.py:60: FutureWarning: The frame.append method is deprecated and will be removed from pandas in a future version. Use pandas.concat instead.\n",
      "  df = df.append(df_temp)\n"
     ]
    }
   ],
   "source": [
    "dataset = create_dataset()\n",
    "\n"
   ]
  },
  {
   "cell_type": "code",
   "execution_count": 48,
   "id": "0285c1f6",
   "metadata": {},
   "outputs": [
    {
     "data": {
      "text/plain": [
       "(27, 17)"
      ]
     },
     "execution_count": 48,
     "metadata": {},
     "output_type": "execute_result"
    }
   ],
   "source": [
    "dataset.shape"
   ]
  },
  {
   "cell_type": "code",
   "execution_count": 49,
   "id": "d5e56f69",
   "metadata": {},
   "outputs": [
    {
     "data": {
      "text/plain": [
       "pandas.core.frame.DataFrame"
      ]
     },
     "execution_count": 49,
     "metadata": {},
     "output_type": "execute_result"
    }
   ],
   "source": [
    "type(dataset)"
   ]
  },
  {
   "cell_type": "code",
   "execution_count": 50,
   "id": "0a902daf",
   "metadata": {},
   "outputs": [],
   "source": [
    "dataset.to_csv(\"leaf dataset.csv\")"
   ]
  },
  {
   "cell_type": "code",
   "execution_count": null,
   "id": "5bfe27ad",
   "metadata": {},
   "outputs": [],
   "source": []
  }
 ],
 "metadata": {
  "kernelspec": {
   "display_name": "Python 3 (ipykernel)",
   "language": "python",
   "name": "python3"
  },
  "language_info": {
   "codemirror_mode": {
    "name": "ipython",
    "version": 3
   },
   "file_extension": ".py",
   "mimetype": "text/x-python",
   "name": "python",
   "nbconvert_exporter": "python",
   "pygments_lexer": "ipython3",
   "version": "3.9.12"
  }
 },
 "nbformat": 4,
 "nbformat_minor": 5
}
